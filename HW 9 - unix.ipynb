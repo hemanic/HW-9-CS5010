{
 "cells": [
  {
   "cell_type": "code",
   "execution_count": null,
   "metadata": {},
   "outputs": [],
   "source": [
    "import os\n",
    "import sys\n",
    "import requests"
   ]
  },
  {
   "cell_type": "raw",
   "metadata": {},
   "source": [
    "1. Print your name on terminal."
   ]
  },
  {
   "cell_type": "code",
   "execution_count": 2,
   "metadata": {},
   "outputs": [
    {
     "name": "stdout",
     "output_type": "stream",
     "text": [
      "Hemani Choksi\r\n"
     ]
    }
   ],
   "source": [
    "name = \"Hemani Choksi\"\n",
    "\n",
    "!echo {name}"
   ]
  },
  {
   "cell_type": "raw",
   "metadata": {},
   "source": [
    "2. Print your working directory."
   ]
  },
  {
   "cell_type": "code",
   "execution_count": 3,
   "metadata": {},
   "outputs": [
    {
     "name": "stdout",
     "output_type": "stream",
     "text": [
      "['HW 9 - unix.ipynb', 'HW-9-CS5010', 'Unix command line basics.ipynb', 'kernelshell.gif', 'newfile.txt', 'terminal.png']\n"
     ]
    }
   ],
   "source": [
    "all_contents = !ls\n",
    "\n",
    "print(all_contents)"
   ]
  },
  {
   "cell_type": "raw",
   "metadata": {},
   "source": [
    "3. Set your working dir to your home dir with three different commands.\n",
    "4. change your directory to the directory of your Jupyter notebook."
   ]
  },
  {
   "cell_type": "code",
   "execution_count": 4,
   "metadata": {},
   "outputs": [
    {
     "data": {
      "text/plain": [
       "'/Users/hemanichoksi/Desktop/cs5010/module 9'"
      ]
     },
     "execution_count": 4,
     "metadata": {},
     "output_type": "execute_result"
    }
   ],
   "source": [
    "wd=os.getcwd()\n",
    "wd"
   ]
  },
  {
   "cell_type": "code",
   "execution_count": 5,
   "metadata": {},
   "outputs": [],
   "source": [
    "os.chdir(wd)"
   ]
  },
  {
   "cell_type": "raw",
   "metadata": {},
   "source": [
    "5. Use `touch` to make a txt file and write `hello world` in that file using output redirection: `>`. Append, your name by `>>`."
   ]
  },
  {
   "cell_type": "code",
   "execution_count": 6,
   "metadata": {},
   "outputs": [],
   "source": [
    "!touch newfile.txt"
   ]
  },
  {
   "cell_type": "code",
   "execution_count": 6,
   "metadata": {},
   "outputs": [],
   "source": [
    "!echo ‘Hello World’ > newfile.txt\n",
    "!echo 'Hemani Choksi' >> newfile.txt"
   ]
  },
  {
   "cell_type": "code",
   "execution_count": null,
   "metadata": {},
   "outputs": [],
   "source": [
    "file1 = open(\"newfile.txt\", \"a\")  # append mode \n",
    "file1.write(name) \n",
    "file1.close() "
   ]
  },
  {
   "cell_type": "raw",
   "metadata": {},
   "source": [
    "6. Show the contents of the file on the screen (use the address of the file  "
   ]
  },
  {
   "cell_type": "code",
   "execution_count": null,
   "metadata": {},
   "outputs": [],
   "source": [
    "f=open(\"newfile.txt\", \"r\")\n",
    "contents =f.read()\n",
    "print(contents)"
   ]
  },
  {
   "cell_type": "raw",
   "metadata": {},
   "source": [
    "7. apply commands `wc` and `cat` on your txt file and explain what they do (if your txt file is big use `less` instead of `cat`)."
   ]
  },
  {
   "cell_type": "code",
   "execution_count": 1,
   "metadata": {},
   "outputs": [
    {
     "name": "stdout",
     "output_type": "stream",
     "text": [
      "['       1       4      25 newfile.txt']\n"
     ]
    }
   ],
   "source": [
    "## displays the number of lines in a file followed by the number of words and then the number of characters\n",
    "wordcount= !wc newfile.txt \n",
    "print(wordcount)"
   ]
  },
  {
   "cell_type": "code",
   "execution_count": 2,
   "metadata": {},
   "outputs": [
    {
     "name": "stdout",
     "output_type": "stream",
     "text": [
      "['Hello World', 'Hemani Choksi']\n"
     ]
    }
   ],
   "source": [
    "## often used to print text files to the terminal, despite the fact that it is really meant to concatenate files.\n",
    "cat= !cat newfile.txt \n",
    "print(cat)"
   ]
  },
  {
   "cell_type": "raw",
   "metadata": {},
   "source": [
    "8. use `curl` to download a dataset from the web.\n",
    "make a new folder inside your current directory and cd in that directory and move the downloaded file to this new directory.\n"
   ]
  },
  {
   "cell_type": "code",
   "execution_count": null,
   "metadata": {},
   "outputs": [],
   "source": [
    "os.chdir('/Users/hemanichoksi/Desktop/cs5010/module 9/HW-9-CS5010/curl')"
   ]
  },
  {
   "cell_type": "code",
   "execution_count": 7,
   "metadata": {},
   "outputs": [],
   "source": [
    "curl = !curl https://data.nodc.noaa.gov/cgi-bin/iso?id=gov.noaa.ncdc:C00313 > datafile.txt\n",
    "\n",
    "save= !curl -o data.csv https://data.nodc.noaa.gov/cgi-bin/iso?id=gov.noaa.ncdc:C00313"
   ]
  },
  {
   "cell_type": "raw",
   "metadata": {},
   "source": [
    "9. Apply `head -n 5 {}` to a print the first 5 lines of your file (`tail` is similar). "
   ]
  },
  {
   "cell_type": "code",
   "execution_count": 8,
   "metadata": {},
   "outputs": [],
   "source": [
    "head= !head -n 5 {}"
   ]
  },
  {
   "cell_type": "raw",
   "metadata": {},
   "source": [
    "10. Since you know how to use git; write a bash command where you commit the changes in your code with a comment and then push it to a remote Github repository.\n",
    "        "
   ]
  },
  {
   "cell_type": "raw",
   "metadata": {},
   "source": [
    "commands used: \n",
    "- git status \n",
    "- git add ./\n",
    "- git commit -m \"git commit\"\n",
    "- git push\n"
   ]
  }
 ],
 "metadata": {
  "kernelspec": {
   "display_name": "Python 3",
   "language": "python",
   "name": "python3"
  },
  "language_info": {
   "codemirror_mode": {
    "name": "ipython",
    "version": 3
   },
   "file_extension": ".py",
   "mimetype": "text/x-python",
   "name": "python",
   "nbconvert_exporter": "python",
   "pygments_lexer": "ipython3",
   "version": "3.7.6"
  }
 },
 "nbformat": 4,
 "nbformat_minor": 4
}
